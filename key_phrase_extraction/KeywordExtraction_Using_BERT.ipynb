{
  "cells": [
    {
      "cell_type": "code",
      "execution_count": null,
      "metadata": {
        "colab": {
          "base_uri": "https://localhost:8080/",
          "height": 84
        },
        "id": "vA_0F9Z12bVA",
        "outputId": "42f86d8d-6ca7-42c4-e447-c58762c87dc8"
      },
      "outputs": [
        {
          "name": "stdout",
          "output_type": "stream",
          "text": [
            "[('zoom', 0.4478), ('chat', 0.3676), ('meetings', 0.361), ('app', 0.31), ('video', 0.2757)]\n"
          ]
        },
        {
          "data": {
            "text/html": [
              "<pre style=\"white-space:pre;overflow-x:auto;line-height:normal;font-family:Menlo,'DejaVu Sans Mono',consolas,'Courier New',monospace\"><span style=\"color: #000000; text-decoration-color: #000000; background-color: #ffff00\">Zoom</span> is good <span style=\"color: #000000; text-decoration-color: #000000; background-color: #ffff00\">video</span> <span style=\"color: #000000; text-decoration-color: #000000; background-color: #ffff00\">chat</span> <span style=\"color: #000000; text-decoration-color: #000000; background-color: #ffff00\">app</span> for secure <span style=\"color: #000000; text-decoration-color: #000000; background-color: #ffff00\">meetings</span> but unfortunately the user interface is awkward It should remember \n",
              "permissions settings and user preferences Despite the flaws do recommend the <span style=\"color: #000000; text-decoration-color: #000000; background-color: #ffff00\">Zoom</span> <span style=\"color: #000000; text-decoration-color: #000000; background-color: #ffff00\">app</span>\n",
              "</pre>\n"
            ],
            "text/plain": [
              "\u001b[30;48;2;255;255;0mZoom\u001b[0m is good \u001b[30;48;2;255;255;0mvideo\u001b[0m \u001b[30;48;2;255;255;0mchat\u001b[0m \u001b[30;48;2;255;255;0mapp\u001b[0m for secure \u001b[30;48;2;255;255;0mmeetings\u001b[0m but unfortunately the user interface is awkward It should remember \n",
              "permissions settings and user preferences Despite the flaws do recommend the \u001b[30;48;2;255;255;0mZoom\u001b[0m \u001b[30;48;2;255;255;0mapp\u001b[0m\n"
            ]
          },
          "metadata": {},
          "output_type": "display_data"
        },
        {
          "name": "stdout",
          "output_type": "stream",
          "text": [
            "[('zoom', 0.4478), ('chat', 0.3676), ('meetings', 0.361), ('app', 0.31), ('video', 0.2757)]\n"
          ]
        }
      ],
      "source": [
        "from keybert import KeyBERT\n",
        "\n",
        "\n",
        "doc = \"\"\"\n",
        "         The new update with the small window and new interface is terrible. \n",
        "         there is no search history anymore and you cant use it when the phone is locked now. \n",
        "         Both of these issues were not in previous versions and have destroyed any chance for this app. \n",
        "         Switch it back to the old interface. It wasnt broken so you shouldnt have tried to fix it.\n",
        "        Search feature doesnt work As in regardless of what I search there are no results. \n",
        "        Renders app useless for me. Note 10 plus App is Not working Search isnt working doesnt support my device No results showing once i enter something in search bar. \n",
        "        unable to connect internet Does not play youtube videos I dont know why I cant open this app again whats the problem? I ever delete it and when i intalled it again it cant be open. \n",
        "        Crappy app cant do anything App died. Not working at all. My internet connection on but this app showing nothing but empty pages Search not working Nothing loads at all. Dont download.\n",
        "      \"\"\"\n",
        "doc = \"\"\"\n",
        "      Zoom is a good video chat app for secure meetings, but unfortunately the user interface is awkward.\n",
        "      It should remember permissions, settings and user preferences. Despite the flaws, I do recommend the Zoom app.\n",
        "      \"\"\"\n",
        "kw_model = KeyBERT()\n",
        "keywords = kw_model.extract_keywords(doc)\n",
        "print(keywords)\n",
        "keywords = kw_model.extract_keywords(doc, highlight=True)\n",
        "print(keywords)"
      ]
    },
    {
      "cell_type": "code",
      "execution_count": null,
      "metadata": {
        "id": "56pdMlj2AIN1"
      },
      "outputs": [],
      "source": []
    },
    {
      "cell_type": "code",
      "execution_count": null,
      "metadata": {
        "colab": {
          "base_uri": "https://localhost:8080/"
        },
        "id": "PVNqq0xn95ii",
        "outputId": "1404ec6d-1208-4e77-e40a-c3cfe08551c7"
      },
      "outputs": [
        {
          "name": "stdout",
          "output_type": "stream",
          "text": [
            "[('video chat app', 0.6825), ('secure meetings', 0.5236), ('flaws recommend zoom', 0.4318), ('remember permissions settings', 0.2638), ('unfortunately user', 0.1188)]\n",
            "[('video chat app', 0.6825), ('recommend zoom app', 0.5997), ('app secure meetings', 0.5952), ('chat app secure', 0.565), ('zoom good video', 0.5192)]\n",
            "[('video chat app', 0.6825), ('recommend zoom app', 0.5997), ('secure meetings unfortunately', 0.4955), ('user interface awkward', 0.2887), ('remember permissions settings', 0.2638)]\n",
            "[('video chat app', 0.6825), ('recommend zoom app', 0.5997), ('chat app secure', 0.565), ('secure meetings unfortunately', 0.4955), ('unfortunately user interface', 0.2901), ('remember permissions settings', 0.2638), ('interface awkward remember', 0.2324), ('settings user preferences', 0.1338), ('despite flaws recommend', 0.0559), ('preferences despite flaws', 0.002)]\n",
            "[('despite flaws recommend', 0.0559), ('permissions settings user', 0.1886), ('interface awkward remember', 0.2324), ('zoom good video', 0.5192), ('chat app secure', 0.565)]\n"
          ]
        }
      ],
      "source": [
        "#print(kw_model.extract_keywords(doc, keyphrase_ngram_range=(4, 4), stop_words=None, use_mmr=True, diversity=0.7))\n",
        "print(kw_model.extract_keywords(doc, keyphrase_ngram_range=(2, 3), stop_words='english', \n",
        "                              use_mmr=True, diversity=0.7))\n",
        "print(kw_model.extract_keywords(doc, keyphrase_ngram_range=(3, 3), stop_words='english', \n",
        "                              use_mmr=True, diversity=0.2))\n",
        "print(kw_model.extract_keywords(doc, keyphrase_ngram_range=(3, 3), stop_words='english', \n",
        "                              use_mmr=True))\n",
        "print(kw_model.extract_keywords(doc, keyphrase_ngram_range=(3, 3), stop_words='english', use_maxsum=True, nr_candidates=25, top_n=10, use_mmr=True, diversity=0.9))\n",
        "print(kw_model.extract_keywords(doc, keyphrase_ngram_range=(3, 3), stop_words='english', use_maxsum=True, nr_candidates=20, top_n=5))"
      ]
    }
  ],
  "metadata": {
    "accelerator": "GPU",
    "colab": {
      "provenance": []
    },
    "gpuClass": "standard",
    "kernelspec": {
      "display_name": "Python 3",
      "name": "python3"
    },
    "language_info": {
      "name": "python"
    }
  },
  "nbformat": 4,
  "nbformat_minor": 0
}
