{
  "nbformat": 4,
  "nbformat_minor": 0,
  "metadata": {
    "colab": {
      "provenance": [],
      "collapsed_sections": []
    },
    "kernelspec": {
      "name": "python3",
      "display_name": "Python 3"
    }
  },
  "cells": [
    {
      "cell_type": "code",
      "metadata": {
        "id": "we0MhlUF_-uO"
      },
      "source": [
        "!pip install -qq google-play-scraper"
      ],
      "execution_count": 1,
      "outputs": []
    },
    {
      "cell_type": "code",
      "metadata": {
        "id": "1rxopHVPO-WO",
        "colab": {
          "base_uri": "https://localhost:8080/"
        },
        "outputId": "050d3923-1c2a-4b94-9119-7119536e5b3f"
      },
      "source": [
        "!pip install -qq -U watermark"
      ],
      "execution_count": 2,
      "outputs": [
        {
          "output_type": "stream",
          "name": "stdout",
          "text": [
            "\u001b[?25l\r\u001b[K     |▏                               | 10 kB 7.9 MB/s eta 0:00:01\r\u001b[K     |▍                               | 20 kB 4.5 MB/s eta 0:00:01\r\u001b[K     |▋                               | 30 kB 6.4 MB/s eta 0:00:01\r\u001b[K     |▉                               | 40 kB 5.6 MB/s eta 0:00:01\r\u001b[K     |█                               | 51 kB 5.4 MB/s eta 0:00:01\r\u001b[K     |█▎                              | 61 kB 6.4 MB/s eta 0:00:01\r\u001b[K     |█▌                              | 71 kB 6.7 MB/s eta 0:00:01\r\u001b[K     |█▊                              | 81 kB 7.5 MB/s eta 0:00:01\r\u001b[K     |█▉                              | 92 kB 7.3 MB/s eta 0:00:01\r\u001b[K     |██                              | 102 kB 7.0 MB/s eta 0:00:01\r\u001b[K     |██▎                             | 112 kB 7.0 MB/s eta 0:00:01\r\u001b[K     |██▌                             | 122 kB 7.0 MB/s eta 0:00:01\r\u001b[K     |██▊                             | 133 kB 7.0 MB/s eta 0:00:01\r\u001b[K     |███                             | 143 kB 7.0 MB/s eta 0:00:01\r\u001b[K     |███▏                            | 153 kB 7.0 MB/s eta 0:00:01\r\u001b[K     |███▍                            | 163 kB 7.0 MB/s eta 0:00:01\r\u001b[K     |███▌                            | 174 kB 7.0 MB/s eta 0:00:01\r\u001b[K     |███▊                            | 184 kB 7.0 MB/s eta 0:00:01\r\u001b[K     |████                            | 194 kB 7.0 MB/s eta 0:00:01\r\u001b[K     |████▏                           | 204 kB 7.0 MB/s eta 0:00:01\r\u001b[K     |████▍                           | 215 kB 7.0 MB/s eta 0:00:01\r\u001b[K     |████▋                           | 225 kB 7.0 MB/s eta 0:00:01\r\u001b[K     |████▉                           | 235 kB 7.0 MB/s eta 0:00:01\r\u001b[K     |█████                           | 245 kB 7.0 MB/s eta 0:00:01\r\u001b[K     |█████▎                          | 256 kB 7.0 MB/s eta 0:00:01\r\u001b[K     |█████▍                          | 266 kB 7.0 MB/s eta 0:00:01\r\u001b[K     |█████▋                          | 276 kB 7.0 MB/s eta 0:00:01\r\u001b[K     |█████▉                          | 286 kB 7.0 MB/s eta 0:00:01\r\u001b[K     |██████                          | 296 kB 7.0 MB/s eta 0:00:01\r\u001b[K     |██████▎                         | 307 kB 7.0 MB/s eta 0:00:01\r\u001b[K     |██████▌                         | 317 kB 7.0 MB/s eta 0:00:01\r\u001b[K     |██████▊                         | 327 kB 7.0 MB/s eta 0:00:01\r\u001b[K     |███████                         | 337 kB 7.0 MB/s eta 0:00:01\r\u001b[K     |███████                         | 348 kB 7.0 MB/s eta 0:00:01\r\u001b[K     |███████▎                        | 358 kB 7.0 MB/s eta 0:00:01\r\u001b[K     |███████▌                        | 368 kB 7.0 MB/s eta 0:00:01\r\u001b[K     |███████▊                        | 378 kB 7.0 MB/s eta 0:00:01\r\u001b[K     |████████                        | 389 kB 7.0 MB/s eta 0:00:01\r\u001b[K     |████████▏                       | 399 kB 7.0 MB/s eta 0:00:01\r\u001b[K     |████████▍                       | 409 kB 7.0 MB/s eta 0:00:01\r\u001b[K     |████████▋                       | 419 kB 7.0 MB/s eta 0:00:01\r\u001b[K     |████████▉                       | 430 kB 7.0 MB/s eta 0:00:01\r\u001b[K     |█████████                       | 440 kB 7.0 MB/s eta 0:00:01\r\u001b[K     |█████████▏                      | 450 kB 7.0 MB/s eta 0:00:01\r\u001b[K     |█████████▍                      | 460 kB 7.0 MB/s eta 0:00:01\r\u001b[K     |█████████▋                      | 471 kB 7.0 MB/s eta 0:00:01\r\u001b[K     |█████████▉                      | 481 kB 7.0 MB/s eta 0:00:01\r\u001b[K     |██████████                      | 491 kB 7.0 MB/s eta 0:00:01\r\u001b[K     |██████████▎                     | 501 kB 7.0 MB/s eta 0:00:01\r\u001b[K     |██████████▌                     | 512 kB 7.0 MB/s eta 0:00:01\r\u001b[K     |██████████▋                     | 522 kB 7.0 MB/s eta 0:00:01\r\u001b[K     |██████████▉                     | 532 kB 7.0 MB/s eta 0:00:01\r\u001b[K     |███████████                     | 542 kB 7.0 MB/s eta 0:00:01\r\u001b[K     |███████████▎                    | 552 kB 7.0 MB/s eta 0:00:01\r\u001b[K     |███████████▌                    | 563 kB 7.0 MB/s eta 0:00:01\r\u001b[K     |███████████▊                    | 573 kB 7.0 MB/s eta 0:00:01\r\u001b[K     |████████████                    | 583 kB 7.0 MB/s eta 0:00:01\r\u001b[K     |████████████▏                   | 593 kB 7.0 MB/s eta 0:00:01\r\u001b[K     |████████████▍                   | 604 kB 7.0 MB/s eta 0:00:01\r\u001b[K     |████████████▌                   | 614 kB 7.0 MB/s eta 0:00:01\r\u001b[K     |████████████▊                   | 624 kB 7.0 MB/s eta 0:00:01\r\u001b[K     |█████████████                   | 634 kB 7.0 MB/s eta 0:00:01\r\u001b[K     |█████████████▏                  | 645 kB 7.0 MB/s eta 0:00:01\r\u001b[K     |█████████████▍                  | 655 kB 7.0 MB/s eta 0:00:01\r\u001b[K     |█████████████▋                  | 665 kB 7.0 MB/s eta 0:00:01\r\u001b[K     |█████████████▉                  | 675 kB 7.0 MB/s eta 0:00:01\r\u001b[K     |██████████████                  | 686 kB 7.0 MB/s eta 0:00:01\r\u001b[K     |██████████████▏                 | 696 kB 7.0 MB/s eta 0:00:01\r\u001b[K     |██████████████▍                 | 706 kB 7.0 MB/s eta 0:00:01\r\u001b[K     |██████████████▋                 | 716 kB 7.0 MB/s eta 0:00:01\r\u001b[K     |██████████████▉                 | 727 kB 7.0 MB/s eta 0:00:01\r\u001b[K     |███████████████                 | 737 kB 7.0 MB/s eta 0:00:01\r\u001b[K     |███████████████▎                | 747 kB 7.0 MB/s eta 0:00:01\r\u001b[K     |███████████████▌                | 757 kB 7.0 MB/s eta 0:00:01\r\u001b[K     |███████████████▊                | 768 kB 7.0 MB/s eta 0:00:01\r\u001b[K     |████████████████                | 778 kB 7.0 MB/s eta 0:00:01\r\u001b[K     |████████████████                | 788 kB 7.0 MB/s eta 0:00:01\r\u001b[K     |████████████████▎               | 798 kB 7.0 MB/s eta 0:00:01\r\u001b[K     |████████████████▌               | 808 kB 7.0 MB/s eta 0:00:01\r\u001b[K     |████████████████▊               | 819 kB 7.0 MB/s eta 0:00:01\r\u001b[K     |█████████████████               | 829 kB 7.0 MB/s eta 0:00:01\r\u001b[K     |█████████████████▏              | 839 kB 7.0 MB/s eta 0:00:01\r\u001b[K     |█████████████████▍              | 849 kB 7.0 MB/s eta 0:00:01\r\u001b[K     |█████████████████▋              | 860 kB 7.0 MB/s eta 0:00:01\r\u001b[K     |█████████████████▊              | 870 kB 7.0 MB/s eta 0:00:01\r\u001b[K     |██████████████████              | 880 kB 7.0 MB/s eta 0:00:01\r\u001b[K     |██████████████████▏             | 890 kB 7.0 MB/s eta 0:00:01\r\u001b[K     |██████████████████▍             | 901 kB 7.0 MB/s eta 0:00:01\r\u001b[K     |██████████████████▋             | 911 kB 7.0 MB/s eta 0:00:01\r\u001b[K     |██████████████████▉             | 921 kB 7.0 MB/s eta 0:00:01\r\u001b[K     |███████████████████             | 931 kB 7.0 MB/s eta 0:00:01\r\u001b[K     |███████████████████▎            | 942 kB 7.0 MB/s eta 0:00:01\r\u001b[K     |███████████████████▌            | 952 kB 7.0 MB/s eta 0:00:01\r\u001b[K     |███████████████████▋            | 962 kB 7.0 MB/s eta 0:00:01\r\u001b[K     |███████████████████▉            | 972 kB 7.0 MB/s eta 0:00:01\r\u001b[K     |████████████████████            | 983 kB 7.0 MB/s eta 0:00:01\r\u001b[K     |████████████████████▎           | 993 kB 7.0 MB/s eta 0:00:01\r\u001b[K     |████████████████████▌           | 1.0 MB 7.0 MB/s eta 0:00:01\r\u001b[K     |████████████████████▊           | 1.0 MB 7.0 MB/s eta 0:00:01\r\u001b[K     |█████████████████████           | 1.0 MB 7.0 MB/s eta 0:00:01\r\u001b[K     |█████████████████████▏          | 1.0 MB 7.0 MB/s eta 0:00:01\r\u001b[K     |█████████████████████▎          | 1.0 MB 7.0 MB/s eta 0:00:01\r\u001b[K     |█████████████████████▌          | 1.1 MB 7.0 MB/s eta 0:00:01\r\u001b[K     |█████████████████████▊          | 1.1 MB 7.0 MB/s eta 0:00:01\r\u001b[K     |██████████████████████          | 1.1 MB 7.0 MB/s eta 0:00:01\r\u001b[K     |██████████████████████▏         | 1.1 MB 7.0 MB/s eta 0:00:01\r\u001b[K     |██████████████████████▍         | 1.1 MB 7.0 MB/s eta 0:00:01\r\u001b[K     |██████████████████████▋         | 1.1 MB 7.0 MB/s eta 0:00:01\r\u001b[K     |██████████████████████▉         | 1.1 MB 7.0 MB/s eta 0:00:01\r\u001b[K     |███████████████████████         | 1.1 MB 7.0 MB/s eta 0:00:01\r\u001b[K     |███████████████████████▏        | 1.1 MB 7.0 MB/s eta 0:00:01\r\u001b[K     |███████████████████████▍        | 1.1 MB 7.0 MB/s eta 0:00:01\r\u001b[K     |███████████████████████▋        | 1.2 MB 7.0 MB/s eta 0:00:01\r\u001b[K     |███████████████████████▉        | 1.2 MB 7.0 MB/s eta 0:00:01\r\u001b[K     |████████████████████████        | 1.2 MB 7.0 MB/s eta 0:00:01\r\u001b[K     |████████████████████████▎       | 1.2 MB 7.0 MB/s eta 0:00:01\r\u001b[K     |████████████████████████▌       | 1.2 MB 7.0 MB/s eta 0:00:01\r\u001b[K     |████████████████████████▊       | 1.2 MB 7.0 MB/s eta 0:00:01\r\u001b[K     |████████████████████████▉       | 1.2 MB 7.0 MB/s eta 0:00:01\r\u001b[K     |█████████████████████████       | 1.2 MB 7.0 MB/s eta 0:00:01\r\u001b[K     |█████████████████████████▎      | 1.2 MB 7.0 MB/s eta 0:00:01\r\u001b[K     |█████████████████████████▌      | 1.2 MB 7.0 MB/s eta 0:00:01\r\u001b[K     |█████████████████████████▊      | 1.3 MB 7.0 MB/s eta 0:00:01\r\u001b[K     |██████████████████████████      | 1.3 MB 7.0 MB/s eta 0:00:01\r\u001b[K     |██████████████████████████▏     | 1.3 MB 7.0 MB/s eta 0:00:01\r\u001b[K     |██████████████████████████▍     | 1.3 MB 7.0 MB/s eta 0:00:01\r\u001b[K     |██████████████████████████▌     | 1.3 MB 7.0 MB/s eta 0:00:01\r\u001b[K     |██████████████████████████▊     | 1.3 MB 7.0 MB/s eta 0:00:01\r\u001b[K     |███████████████████████████     | 1.3 MB 7.0 MB/s eta 0:00:01\r\u001b[K     |███████████████████████████▏    | 1.3 MB 7.0 MB/s eta 0:00:01\r\u001b[K     |███████████████████████████▍    | 1.3 MB 7.0 MB/s eta 0:00:01\r\u001b[K     |███████████████████████████▋    | 1.4 MB 7.0 MB/s eta 0:00:01\r\u001b[K     |███████████████████████████▉    | 1.4 MB 7.0 MB/s eta 0:00:01\r\u001b[K     |████████████████████████████    | 1.4 MB 7.0 MB/s eta 0:00:01\r\u001b[K     |████████████████████████████▎   | 1.4 MB 7.0 MB/s eta 0:00:01\r\u001b[K     |████████████████████████████▍   | 1.4 MB 7.0 MB/s eta 0:00:01\r\u001b[K     |████████████████████████████▋   | 1.4 MB 7.0 MB/s eta 0:00:01\r\u001b[K     |████████████████████████████▉   | 1.4 MB 7.0 MB/s eta 0:00:01\r\u001b[K     |█████████████████████████████   | 1.4 MB 7.0 MB/s eta 0:00:01\r\u001b[K     |█████████████████████████████▎  | 1.4 MB 7.0 MB/s eta 0:00:01\r\u001b[K     |█████████████████████████████▌  | 1.4 MB 7.0 MB/s eta 0:00:01\r\u001b[K     |█████████████████████████████▊  | 1.5 MB 7.0 MB/s eta 0:00:01\r\u001b[K     |██████████████████████████████  | 1.5 MB 7.0 MB/s eta 0:00:01\r\u001b[K     |██████████████████████████████  | 1.5 MB 7.0 MB/s eta 0:00:01\r\u001b[K     |██████████████████████████████▎ | 1.5 MB 7.0 MB/s eta 0:00:01\r\u001b[K     |██████████████████████████████▌ | 1.5 MB 7.0 MB/s eta 0:00:01\r\u001b[K     |██████████████████████████████▊ | 1.5 MB 7.0 MB/s eta 0:00:01\r\u001b[K     |███████████████████████████████ | 1.5 MB 7.0 MB/s eta 0:00:01\r\u001b[K     |███████████████████████████████▏| 1.5 MB 7.0 MB/s eta 0:00:01\r\u001b[K     |███████████████████████████████▍| 1.5 MB 7.0 MB/s eta 0:00:01\r\u001b[K     |███████████████████████████████▋| 1.5 MB 7.0 MB/s eta 0:00:01\r\u001b[K     |███████████████████████████████▉| 1.6 MB 7.0 MB/s eta 0:00:01\r\u001b[K     |████████████████████████████████| 1.6 MB 7.0 MB/s eta 0:00:01\r\u001b[K     |████████████████████████████████| 1.6 MB 7.0 MB/s \n",
            "\u001b[?25h"
          ]
        }
      ]
    },
    {
      "cell_type": "code",
      "metadata": {
        "id": "NtL0sXa5PDsG",
        "outputId": "011c61cf-cc8e-4a32-d565-c039aee7b557",
        "colab": {
          "base_uri": "https://localhost:8080/"
        }
      },
      "source": [
        "%reload_ext watermark\n",
        "%watermark -v -p pandas,matplotlib,seaborn,google_play_scraper"
      ],
      "execution_count": 3,
      "outputs": [
        {
          "output_type": "stream",
          "name": "stdout",
          "text": [
            "Python implementation: CPython\n",
            "Python version       : 3.7.15\n",
            "IPython version      : 7.9.0\n",
            "\n",
            "pandas             : 1.3.5\n",
            "matplotlib         : 3.2.2\n",
            "seaborn            : 0.11.2\n",
            "google_play_scraper: 1.2.2\n",
            "\n"
          ]
        }
      ]
    },
    {
      "cell_type": "code",
      "metadata": {
        "id": "KO_DkQb1AeSY"
      },
      "source": [
        "import json\n",
        "import pandas as pd\n",
        "from tqdm import tqdm\n",
        "\n",
        "import seaborn as sns\n",
        "import matplotlib.pyplot as plt\n",
        "\n",
        "from pygments import highlight\n",
        "from pygments.lexers import JsonLexer\n",
        "from pygments.formatters import TerminalFormatter\n",
        "\n",
        "from google_play_scraper import Sort, reviews, app\n",
        "\n",
        "%matplotlib inline\n",
        "%config InlineBackend.figure_format='retina'\n",
        "\n",
        "sns.set(style='whitegrid', palette='muted', font_scale=1.2)"
      ],
      "execution_count": 4,
      "outputs": []
    },
    {
      "cell_type": "code",
      "metadata": {
        "id": "AyooW6bBAIl6"
      },
      "source": [
        "app_packages = [\n",
        "  'jp.konami.pesam'\n",
        "]"
      ],
      "execution_count": 5,
      "outputs": []
    },
    {
      "cell_type": "markdown",
      "metadata": {
        "id": "EAxBAfyiZ-QC"
      },
      "source": [
        "## Scraping App Information\n"
      ]
    },
    {
      "cell_type": "code",
      "metadata": {
        "id": "zusDZbd4AoOG",
        "outputId": "48e621f8-9350-4351-e193-44092b897536",
        "colab": {
          "base_uri": "https://localhost:8080/"
        }
      },
      "source": [
        "app_infos = []\n",
        "\n",
        "for ap in tqdm(app_packages):\n",
        "  info = app(ap, lang='en', country='us') # Specify the language and region\n",
        "  del info['comments']\n",
        "  app_infos.append(info)"
      ],
      "execution_count": 6,
      "outputs": [
        {
          "output_type": "stream",
          "name": "stderr",
          "text": [
            "100%|██████████| 1/1 [00:00<00:00,  4.21it/s]\n"
          ]
        }
      ]
    },
    {
      "cell_type": "code",
      "metadata": {
        "id": "4n-vkhrZJPp_"
      },
      "source": [
        "def print_json(json_object):\n",
        "  json_str = json.dumps(\n",
        "    json_object, \n",
        "    indent=2, \n",
        "    sort_keys=True, \n",
        "    default=str\n",
        "  )\n",
        "  print(highlight(json_str, JsonLexer(), TerminalFormatter()))"
      ],
      "execution_count": 7,
      "outputs": []
    },
    {
      "cell_type": "code",
      "metadata": {
        "id": "TI1s5NBAEl-X",
        "outputId": "3b211c68-6424-4533-b1ce-4f7b648d7dfa",
        "colab": {
          "base_uri": "https://localhost:8080/"
        }
      },
      "source": [
        "print_json(app_infos[0])"
      ],
      "execution_count": 8,
      "outputs": [
        {
          "output_type": "stream",
          "name": "stdout",
          "text": [
            "{\n",
            "  \u001b[94m\"adSupported\"\u001b[39;49;00m: \u001b[34mtrue\u001b[39;49;00m,\n",
            "  \u001b[94m\"appId\"\u001b[39;49;00m: \u001b[33m\"jp.konami.pesam\"\u001b[39;49;00m,\n",
            "  \u001b[94m\"containsAds\"\u001b[39;49;00m: \u001b[34mtrue\u001b[39;49;00m,\n",
            "  \u001b[94m\"contentRating\"\u001b[39;49;00m: \u001b[33m\"Everyone\"\u001b[39;49;00m,\n",
            "  \u001b[94m\"contentRatingDescription\"\u001b[39;49;00m: \u001b[34mnull\u001b[39;49;00m,\n",
            "  \u001b[94m\"currency\"\u001b[39;49;00m: \u001b[33m\"USD\"\u001b[39;49;00m,\n",
            "  \u001b[94m\"description\"\u001b[39;49;00m: \u001b[33m\"Approximately 3.4 GB of free space will be required to install this update, so please confirm that you have enough room on your device before commencing the download.\\r\\n*Given the size of the file, we highly recommend that you connect to a Wi-Fi network to download it.\\r\\n\\r\\nWe have received reports from some users indicating that Google Play does not always display the correct download size.\\r\\n\\r\\nTherefore we urge you to wait a while even after the download progress bar has reached 100% to ensure that your device has finished downloading the complete file.\\r\\nAlso, you will not be able to complete the update if your device does not have enough space to install the file.\\r\\nIf the app fails to boot, even if the download progress bar has reached 100% in the Google Play Store, please wait a little while until the update is completed to try again.\\r\\nWe apologize for any inconvenience caused.\\r\\n\\r\\n\\u25a0 From \\\"PES\\\" to \\\"eFootball\\u2122\\\"\\r\\nIt's an all-new era of digital soccer. \\\"PES\\\" is evolving into \\\"eFootball\\u2122\\\"!\\r\\nAnd now you can experience the next generation of soccer gaming with \\\"eFootball\\u2122\\\"!\\r\\n\\r\\n\\u25a0 The Excitement of Soccer on Your Mobile Device\\r\\nWe want to offer soccer fans around the world an opportunity to enjoy a new soccer game with unparalleled realism like never before.\\r\\nFor this reason, we have analyzed many of the attacking and defending elements in modern soccer and incorporated them into the game as easy-to-perform commands. Feel the excitement of soccer through your mobile device!\\r\\n\\r\\n\\u25a0 eFootball\\u2122 World\\r\\nAt the heart of eFootball\\u2122 is \\\"eFootball\\u2122 World\\\".\\r\\nPlay as some of the soccer powerhouses with \\\"Authentic Team\\\", or sign and develop your favorite players to build your one and only \\\"Dream Team\\\".\\r\\nGo up against rivals from around the world and take part in a variety of events.\\r\\n\\r\\n\\u25a0 Featuring Europe's Finest\\r\\nPlay with a veritable smorgasbord of officially licensed clubs from around the world, including AC Milan, Internazionale Milano, FC Barcelona, Manchester United, and FC Bayern M\\u00fcnchen. Not only that, you will also have a plethora of famous clubs from Central and South America at your disposal. The cherry on top is that various leagues are making an appearance with their licensed names.\\r\\n\\r\\n\\u25a0 Real-Time, Online Matches\\r\\nCreate your very own Dream Team by signing your favorite players and managers, and develop them to fit your personal playstyle. When you are ready, test your mettle in the Division-based tournament, eFootball\\u2122 League, or join various events to gain amazing rewards. The thrills of eSports have never been so accessible and fun!\\r\\n\\r\\n\\u25a0 Live Among Legends\\r\\nLive out your soccer fantasy by signing various Legends to your team, including Kak\\u00e1, S. Gerrard, F. Cannavaro, Fernando Torres, F. Lampard, D. Drogba, and F. Totti.\\r\\n\\r\\n\\u25a0 Weekly Live Updates\\r\\nData from real matches being played around the world is collated on a weekly basis and implemented in-game through the Live Update feature to create a more authentic experience. These updates affect various aspects of the game, including player Condition Ratings and team rosters.\\r\\n\\r\\n*Users that reside in Belgium will not have access to loot boxes that require eFootball\\u2122 Coins as payment.\\r\\n\\r\\n[For the Latest News]\\r\\nNew features, modes, events, and gameplay improvements will be continuously implemented.\\r\\nFor more information, see the official eFootball\\u2122 website.\\r\\n\\r\\n[Downloading the Game]\\r\\nApproximately 3.4 GB of free storage space is required to download and install eFootball\\u2122 2023.\\r\\nPlease make sure you have enough free space before beginning the download.\\r\\nWe also recommend that you use a Wi-Fi connection to download the base game and any of its updates.\\r\\n\\r\\n[Online Connectivity]\\r\\nAn internet connection is required to play eFootball\\u2122 2023. We also strongly recommend playing with a stable connection to ensure you get the most out of the game.\"\u001b[39;49;00m,\n",
            "  \u001b[94m\"descriptionHTML\"\u001b[39;49;00m: \u001b[33m\"Approximately 3.4 GB of free space will be required to install this update, so please confirm that you have enough room on your device before commencing the download.<br>*Given the size of the file, we highly recommend that you connect to a Wi-Fi network to download it.<br><br>We have received reports from some users indicating that Google Play does not always display the correct download size.<br><br>Therefore we urge you to wait a while even after the download progress bar has reached 100% to ensure that your device has finished downloading the complete file.<br>Also, you will not be able to complete the update if your device does not have enough space to install the file.<br>If the app fails to boot, even if the download progress bar has reached 100% in the Google Play Store, please wait a little while until the update is completed to try again.<br>We apologize for any inconvenience caused.<br><br>\\u25a0 From &quot;PES&quot; to &quot;eFootball\\u2122&quot;<br>It&#39;s an all-new era of digital soccer. &quot;PES&quot; is evolving into &quot;eFootball\\u2122&quot;!<br>And now you can experience the next generation of soccer gaming with &quot;eFootball\\u2122&quot;!<br><br>\\u25a0 The Excitement of Soccer on Your Mobile Device<br>We want to offer soccer fans around the world an opportunity to enjoy a new soccer game with unparalleled realism like never before.<br>For this reason, we have analyzed many of the attacking and defending elements in modern soccer and incorporated them into the game as easy-to-perform commands. Feel the excitement of soccer through your mobile device!<br><br>\\u25a0 eFootball\\u2122 World<br>At the heart of eFootball\\u2122 is &quot;eFootball\\u2122 World&quot;.<br>Play as some of the soccer powerhouses with &quot;Authentic Team&quot;, or sign and develop your favorite players to build your one and only &quot;Dream Team&quot;.<br>Go up against rivals from around the world and take part in a variety of events.<br><br>\\u25a0 Featuring Europe&#39;s Finest<br>Play with a veritable smorgasbord of officially licensed clubs from around the world, including AC Milan, Internazionale Milano, FC Barcelona, Manchester United, and FC Bayern M\\u00fcnchen. Not only that, you will also have a plethora of famous clubs from Central and South America at your disposal. The cherry on top is that various leagues are making an appearance with their licensed names.<br><br>\\u25a0 Real-Time, Online Matches<br>Create your very own Dream Team by signing your favorite players and managers, and develop them to fit your personal playstyle. When you are ready, test your mettle in the Division-based tournament, eFootball\\u2122 League, or join various events to gain amazing rewards. The thrills of eSports have never been so accessible and fun!<br><br>\\u25a0 Live Among Legends<br>Live out your soccer fantasy by signing various Legends to your team, including Kak\\u00e1, S. Gerrard, F. Cannavaro, Fernando Torres, F. Lampard, D. Drogba, and F. Totti.<br><br>\\u25a0 Weekly Live Updates<br>Data from real matches being played around the world is collated on a weekly basis and implemented in-game through the Live Update feature to create a more authentic experience. These updates affect various aspects of the game, including player Condition Ratings and team rosters.<br><br>*Users that reside in Belgium will not have access to loot boxes that require eFootball\\u2122 Coins as payment.<br><br>[For the Latest News]<br>New features, modes, events, and gameplay improvements will be continuously implemented.<br>For more information, see the official eFootball\\u2122 website.<br><br>[Downloading the Game]<br>Approximately 3.4 GB of free storage space is required to download and install eFootball\\u2122 2023.<br>Please make sure you have enough free space before beginning the download.<br>We also recommend that you use a Wi-Fi connection to download the base game and any of its updates.<br><br>[Online Connectivity]<br>An internet connection is required to play eFootball\\u2122 2023. We also strongly recommend playing with a stable connection to ensure you get the most out of the game.\"\u001b[39;49;00m,\n",
            "  \u001b[94m\"developer\"\u001b[39;49;00m: \u001b[33m\"KONAMI\"\u001b[39;49;00m,\n",
            "  \u001b[94m\"developerAddress\"\u001b[39;49;00m: \u001b[33m\"\\u6771\\u4eac\\u90fd\\u4e2d\\u592e\\u533a\\u9280\\u5ea7\\u4e00\\u4e01\\u76ee11\\u756a1\\u53f7\"\u001b[39;49;00m,\n",
            "  \u001b[94m\"developerEmail\"\u001b[39;49;00m: \u001b[33m\"ask-efootball@faq.konami.com\"\u001b[39;49;00m,\n",
            "  \u001b[94m\"developerId\"\u001b[39;49;00m: \u001b[33m\"KONAMI\"\u001b[39;49;00m,\n",
            "  \u001b[94m\"developerWebsite\"\u001b[39;49;00m: \u001b[33m\"https://www.konami.com/games/\"\u001b[39;49;00m,\n",
            "  \u001b[94m\"free\"\u001b[39;49;00m: \u001b[34mtrue\u001b[39;49;00m,\n",
            "  \u001b[94m\"genre\"\u001b[39;49;00m: \u001b[33m\"Sports\"\u001b[39;49;00m,\n",
            "  \u001b[94m\"genreId\"\u001b[39;49;00m: \u001b[33m\"GAME_SPORTS\"\u001b[39;49;00m,\n",
            "  \u001b[94m\"headerImage\"\u001b[39;49;00m: \u001b[33m\"https://play-lh.googleusercontent.com/CV5-TfZL0H9_bnqjXllE8gIY-uMtPLq5MYaPVEvdplbZTilHAmcTq2yg1KY-jwqj2WX3\"\u001b[39;49;00m,\n",
            "  \u001b[94m\"histogram\"\u001b[39;49;00m: [\n",
            "    \u001b[34m2868558\u001b[39;49;00m,\n",
            "    \u001b[34m433285\u001b[39;49;00m,\n",
            "    \u001b[34m607060\u001b[39;49;00m,\n",
            "    \u001b[34m789036\u001b[39;49;00m,\n",
            "    \u001b[34m5792056\u001b[39;49;00m\n",
            "  ],\n",
            "  \u001b[94m\"icon\"\u001b[39;49;00m: \u001b[33m\"https://play-lh.googleusercontent.com/8txKa-eLOnyiRv3rOV_6yY_rdImpEHSe28Dl9MZPg5ubm3w-HsZtsiYL_PKpYOkAjw\"\u001b[39;49;00m,\n",
            "  \u001b[94m\"inAppProductPrice\"\u001b[39;49;00m: \u001b[33m\"$0.99 - $99.99 per item\"\u001b[39;49;00m,\n",
            "  \u001b[94m\"installs\"\u001b[39;49;00m: \u001b[33m\"100,000,000+\"\u001b[39;49;00m,\n",
            "  \u001b[94m\"minInstalls\"\u001b[39;49;00m: \u001b[34m100000000\u001b[39;49;00m,\n",
            "  \u001b[94m\"offersIAP\"\u001b[39;49;00m: \u001b[34mtrue\u001b[39;49;00m,\n",
            "  \u001b[94m\"originalPrice\"\u001b[39;49;00m: \u001b[34mnull\u001b[39;49;00m,\n",
            "  \u001b[94m\"price\"\u001b[39;49;00m: \u001b[34m0\u001b[39;49;00m,\n",
            "  \u001b[94m\"privacyPolicy\"\u001b[39;49;00m: \u001b[33m\"https://legal.konami.com/games/privacy/\"\u001b[39;49;00m,\n",
            "  \u001b[94m\"ratings\"\u001b[39;49;00m: \u001b[34m10490123\u001b[39;49;00m,\n",
            "  \u001b[94m\"realInstalls\"\u001b[39;49;00m: \u001b[34m154051128\u001b[39;49;00m,\n",
            "  \u001b[94m\"recentChanges\"\u001b[39;49;00m: \u001b[33m\"A number of issues were fixed.\\r\\n*Check out the News section in-game for more information.\"\u001b[39;49;00m,\n",
            "  \u001b[94m\"recentChangesHTML\"\u001b[39;49;00m: \u001b[33m\"A number of issues were fixed.<br>*Check out the News section in-game for more information.\"\u001b[39;49;00m,\n",
            "  \u001b[94m\"released\"\u001b[39;49;00m: \u001b[33m\"May 23, 2017\"\u001b[39;49;00m,\n",
            "  \u001b[94m\"reviews\"\u001b[39;49;00m: \u001b[34m118872\u001b[39;49;00m,\n",
            "  \u001b[94m\"sale\"\u001b[39;49;00m: \u001b[34mfalse\u001b[39;49;00m,\n",
            "  \u001b[94m\"saleText\"\u001b[39;49;00m: \u001b[34mnull\u001b[39;49;00m,\n",
            "  \u001b[94m\"saleTime\"\u001b[39;49;00m: \u001b[34mnull\u001b[39;49;00m,\n",
            "  \u001b[94m\"score\"\u001b[39;49;00m: \u001b[34m3.59129\u001b[39;49;00m,\n",
            "  \u001b[94m\"screenshots\"\u001b[39;49;00m: [\n",
            "    \u001b[33m\"https://play-lh.googleusercontent.com/0SN5aSxBLXgMavrCTPAujzAQPRz9LfxwDBiyzDM7NqO-k3sI_6RjOxpnitoP-UaYBto\"\u001b[39;49;00m,\n",
            "    \u001b[33m\"https://play-lh.googleusercontent.com/Oc3mtgFnUqyICA5awFtkZ_VTCVQtzmb67G-CjC3HLNE5k-5P1_5dVw-4LvzUJSZq3d4\"\u001b[39;49;00m,\n",
            "    \u001b[33m\"https://play-lh.googleusercontent.com/Kqoz1_WTGOaSwqNQnvRQwCf8tgisbbRgzQAPC_vNIrwK-NfPB_dWG2r5VXgF_425E6o\"\u001b[39;49;00m,\n",
            "    \u001b[33m\"https://play-lh.googleusercontent.com/niwuIzTtNdSlPBAYKUsrOFvyPCvh-akg16jft1zx23t3fg_wNGQxHMP5uqZqR9A3iDI\"\u001b[39;49;00m,\n",
            "    \u001b[33m\"https://play-lh.googleusercontent.com/fTwpSbT4x0K7WUrLENMV9_6xfMvUf-TSfP2z1JiypVH-I4xR6u8jxh1zQn_w35zfXtW6\"\u001b[39;49;00m,\n",
            "    \u001b[33m\"https://play-lh.googleusercontent.com/Yq3gDyI6BllHrhsY-GtF7yudrm-dn5yH8VkH4tQuYQgaY_fYJEvuBo8X0plfh5f0x69c\"\u001b[39;49;00m,\n",
            "    \u001b[33m\"https://play-lh.googleusercontent.com/_Pjn2tE3rVJ_Mk4w_G9ZWFStx4zTIn71KRYhdtSejzrExXJPe48wkjDUA7tI2k500D8\"\u001b[39;49;00m,\n",
            "    \u001b[33m\"https://play-lh.googleusercontent.com/K93QsQEI2BgnxU-9IOQl38hBsoYCThQtQpH_CsoHNzZDW1m_W1uGQP2VPj6uJA4nSoPJ\"\u001b[39;49;00m,\n",
            "    \u001b[33m\"https://play-lh.googleusercontent.com/SHbkWJGg0sWg4cp7Qm_N1QCH6OwqtJOve9OaDAOr7A3GZhuUFLhZ4sMgq3Crhy2dDqQ\"\u001b[39;49;00m,\n",
            "    \u001b[33m\"https://play-lh.googleusercontent.com/AqKI6FvD4mU7uW4-zi6YQap2naPIPiwYM5hWUCM2ikCtaUBKBDTmF7Cse3Zbqp7l7zo\"\u001b[39;49;00m,\n",
            "    \u001b[33m\"https://play-lh.googleusercontent.com/1ICijB48a1VQUVjQTkFYL3D22KmBhcCAotrDhNBX_dfBoewhUy_ke2zScI_L8GOUFxA\"\u001b[39;49;00m,\n",
            "    \u001b[33m\"https://play-lh.googleusercontent.com/s6u9ENnlRNxdSPrMnlBMkXWzAC6nzjmyjfrA1NzAp8wbg7npAjc-38pMG3td6bSMnY0\"\u001b[39;49;00m,\n",
            "    \u001b[33m\"https://play-lh.googleusercontent.com/3qqRa4T6SqRMduRymjYhGwGlaKMzLLzrlnXHXhbA0zptrZ9WtWl9u0Uda-3DTrdYypE9\"\u001b[39;49;00m,\n",
            "    \u001b[33m\"https://play-lh.googleusercontent.com/TrjCX8T3O00HnlGTG4hLL6NYZvlTit_i-2eFYyPcSbr_V_OBQJnk60lJtQuSIHfyePY\"\u001b[39;49;00m,\n",
            "    \u001b[33m\"https://play-lh.googleusercontent.com/a08ZxuY3t58awudNhkREqlQPrcTYfPcHjxEAANNXy5h0fYhBY-5fr55tqRhkYPSONUI\"\u001b[39;49;00m,\n",
            "    \u001b[33m\"https://play-lh.googleusercontent.com/xZCL3Nc-HQTunRwTJF3cbtp9EWIpo8n9tTgf1dxuwI990vir_iiRt7zfXOFbVFnfK0E\"\u001b[39;49;00m,\n",
            "    \u001b[33m\"https://play-lh.googleusercontent.com/HreWIm6p7uAt3WmutfIakkKzXxzlo_4x6gFo2hdita3ootdpkRnbRaptMYBbQtbfNg\"\u001b[39;49;00m,\n",
            "    \u001b[33m\"https://play-lh.googleusercontent.com/USsmWTX2iwLSQD1AHrak0V5ysQQQWJ_JP1O4ORCD0KwLa_kj3otiJzQdlHye5clgU-Y\"\u001b[39;49;00m,\n",
            "    \u001b[33m\"https://play-lh.googleusercontent.com/bn825xWYXlFL3HldKfNbNDVwLhJOtPsiy9NsIZQsRs6dmV3YO15Zl6eXYltPYLeOpyo\"\u001b[39;49;00m,\n",
            "    \u001b[33m\"https://play-lh.googleusercontent.com/5P0uMmekgZd8SmGFzTLpEfx3JlpLg5-CyuhckJ5D3PIzyjoJBeetK8aGivRNGV7QEbs\"\u001b[39;49;00m,\n",
            "    \u001b[33m\"https://play-lh.googleusercontent.com/dvGYTUBGkSSqMb_QTRU6HyY3oTf27r46y7fDXMXPMGblngpcC03zO5reZziecLvQWQs\"\u001b[39;49;00m\n",
            "  ],\n",
            "  \u001b[94m\"summary\"\u001b[39;49;00m: \u001b[33m\"Updated license data for the 22-23 season.\"\u001b[39;49;00m,\n",
            "  \u001b[94m\"title\"\u001b[39;49;00m: \u001b[33m\"eFootball\\u2122 2023\"\u001b[39;49;00m,\n",
            "  \u001b[94m\"updated\"\u001b[39;49;00m: \u001b[34m1666071686\u001b[39;49;00m,\n",
            "  \u001b[94m\"url\"\u001b[39;49;00m: \u001b[33m\"https://play.google.com/store/apps/details?id=jp.konami.pesam&hl=en&gl=us\"\u001b[39;49;00m,\n",
            "  \u001b[94m\"version\"\u001b[39;49;00m: \u001b[33m\"7.1.1\"\u001b[39;49;00m,\n",
            "  \u001b[94m\"video\"\u001b[39;49;00m: \u001b[33m\"https://www.youtube.com/embed/jWIkfo11gC8?ps=play&vq=large&rel=0&autohide=1&showinfo=0\"\u001b[39;49;00m,\n",
            "  \u001b[94m\"videoImage\"\u001b[39;49;00m: \u001b[33m\"https://play-lh.googleusercontent.com/CV5-TfZL0H9_bnqjXllE8gIY-uMtPLq5MYaPVEvdplbZTilHAmcTq2yg1KY-jwqj2WX3\"\u001b[39;49;00m\n",
            "}\n",
            "\n"
          ]
        }
      ]
    },
    {
      "cell_type": "code",
      "metadata": {
        "id": "ni2zGSIIa6WT",
        "outputId": "f2c0b92c-64da-44fa-97e2-df072a2c3698",
        "colab": {
          "base_uri": "https://localhost:8080/",
          "height": 34
        }
      },
      "source": [
        "def format_title(title):\n",
        "  sep_index = title.find(':') if title.find(':') != -1 else title.find('-')\n",
        "  if sep_index != -1:\n",
        "    title = title[:sep_index]\n",
        "  return title[:10]\n",
        "\n",
        "fig, axs = plt.subplots(2, len(app_infos) // 2, figsize=(14, 5))\n",
        "\n",
        "for i, ax in enumerate(axs.flat):\n",
        "  ai = app_infos[i]\n",
        "  img = plt.imread(ai['icon'])\n",
        "  ax.imshow(img)\n",
        "  ax.set_title(format_title(ai['title']))\n",
        "  ax.axis('off')"
      ],
      "execution_count": 9,
      "outputs": [
        {
          "output_type": "display_data",
          "data": {
            "text/plain": [
              "<Figure size 1008x360 with 0 Axes>"
            ]
          },
          "metadata": {}
        }
      ]
    },
    {
      "cell_type": "code",
      "metadata": {
        "id": "JJeUc7xjBxuq"
      },
      "source": [
        "app_infos_df = pd.DataFrame(app_infos)\n",
        "app_infos_df.to_csv('apps.csv', index=None, header=True)"
      ],
      "execution_count": 10,
      "outputs": []
    },
    {
      "cell_type": "markdown",
      "metadata": {
        "id": "mXqklWjwPLVv"
      },
      "source": [
        "## Scraping App Reviews\n"
      ]
    },
    {
      "cell_type": "code",
      "metadata": {
        "id": "vRIID99ZCfjv",
        "outputId": "01647e07-d96c-42ec-84e3-b99eec662221",
        "colab": {
          "base_uri": "https://localhost:8080/"
        }
      },
      "source": [
        "app_reviews = []\n",
        "\n",
        "for ap in tqdm(app_packages):\n",
        "  for score in list(range(1, 6)):\n",
        "    for sort_order in [Sort.MOST_RELEVANT, Sort.NEWEST]:\n",
        "      rvs, _ = reviews(\n",
        "        ap,\n",
        "        lang='en',\n",
        "        country='us',\n",
        "        sort=sort_order,\n",
        "        count= 200 if score == 3 else 100,\n",
        "        filter_score_with=score\n",
        "      )\n",
        "      for r in rvs:\n",
        "        r['sortOrder'] = 'most_relevant' if sort_order == Sort.MOST_RELEVANT else 'newest'\n",
        "        r['appId'] = ap\n",
        "      app_reviews.extend(rvs)"
      ],
      "execution_count": 11,
      "outputs": [
        {
          "output_type": "stream",
          "name": "stderr",
          "text": [
            "100%|██████████| 1/1 [00:03<00:00,  3.22s/it]\n"
          ]
        }
      ]
    },
    {
      "cell_type": "code",
      "metadata": {
        "id": "tF5exqgWCh1Q",
        "outputId": "f1fb332f-d353-45a0-c9a1-3f9a3c1e3057",
        "colab": {
          "base_uri": "https://localhost:8080/"
        }
      },
      "source": [
        "print_json(app_reviews[0])"
      ],
      "execution_count": 12,
      "outputs": [
        {
          "output_type": "stream",
          "name": "stdout",
          "text": [
            "{\n",
            "  \u001b[94m\"appId\"\u001b[39;49;00m: \u001b[33m\"jp.konami.pesam\"\u001b[39;49;00m,\n",
            "  \u001b[94m\"at\"\u001b[39;49;00m: \u001b[33m\"2022-10-20 10:17:14\"\u001b[39;49;00m,\n",
            "  \u001b[94m\"content\"\u001b[39;49;00m: \u001b[33m\"The style of play has become very slow now, the defense performs as the spectator is, there is no automatic switch between the players, the contracts of the legendary players are few and very expensive and illogical for me, in addition to the problem of changing the places of the control buttons and this made me unable to control because of changing the places of the buttons and I became a spectator of the matches due to my inability to control, i deleted it cuz i don't longer like it.\"\u001b[39;49;00m,\n",
            "  \u001b[94m\"repliedAt\"\u001b[39;49;00m: \u001b[34mnull\u001b[39;49;00m,\n",
            "  \u001b[94m\"replyContent\"\u001b[39;49;00m: \u001b[34mnull\u001b[39;49;00m,\n",
            "  \u001b[94m\"reviewCreatedVersion\"\u001b[39;49;00m: \u001b[33m\"7.1.1\"\u001b[39;49;00m,\n",
            "  \u001b[94m\"reviewId\"\u001b[39;49;00m: \u001b[33m\"ffc34bcd-e701-4efd-821c-301433866f58\"\u001b[39;49;00m,\n",
            "  \u001b[94m\"score\"\u001b[39;49;00m: \u001b[34m1\u001b[39;49;00m,\n",
            "  \u001b[94m\"sortOrder\"\u001b[39;49;00m: \u001b[33m\"most_relevant\"\u001b[39;49;00m,\n",
            "  \u001b[94m\"thumbsUpCount\"\u001b[39;49;00m: \u001b[34m32\u001b[39;49;00m,\n",
            "  \u001b[94m\"userImage\"\u001b[39;49;00m: \u001b[33m\"https://play-lh.googleusercontent.com/a-/ACNPEu9sNTJ_G30PmJhJftGaBst0oGqRBPMI2K_UZHBDhA\"\u001b[39;49;00m,\n",
            "  \u001b[94m\"userName\"\u001b[39;49;00m: \u001b[33m\"\\u0644\\u0648\\u0631\\u062f - LORD\"\u001b[39;49;00m\n",
            "}\n",
            "\n"
          ]
        }
      ]
    },
    {
      "cell_type": "code",
      "metadata": {
        "id": "e2YjMDQDOdC5",
        "outputId": "d8e94d31-153f-44ab-d86f-e3e8ea994f45",
        "colab": {
          "base_uri": "https://localhost:8080/"
        }
      },
      "source": [
        "len(app_reviews)"
      ],
      "execution_count": 13,
      "outputs": [
        {
          "output_type": "execute_result",
          "data": {
            "text/plain": [
              "1200"
            ]
          },
          "metadata": {},
          "execution_count": 13
        }
      ]
    },
    {
      "cell_type": "code",
      "metadata": {
        "id": "1L7Nq2uwCjRI"
      },
      "source": [
        "app_reviews_df = pd.DataFrame(app_reviews)\n",
        "app_reviews_df.to_csv('reviews.csv', index=None, header=True)"
      ],
      "execution_count": 14,
      "outputs": []
    }
  ]
}